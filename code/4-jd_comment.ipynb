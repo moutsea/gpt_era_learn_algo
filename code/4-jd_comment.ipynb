{
 "cells": [
  {
   "cell_type": "code",
   "execution_count": 1,
   "metadata": {},
   "outputs": [
    {
     "name": "stdout",
     "output_type": "stream",
     "text": [
      "Collecting jieba\n",
      "  Downloading jieba-0.42.1.tar.gz (19.2 MB)\n",
      "     ---------------------------------------- 19.2/19.2 MB 9.8 MB/s eta 0:00:00\n",
      "  Preparing metadata (setup.py): started\n",
      "  Preparing metadata (setup.py): finished with status 'done'\n",
      "Building wheels for collected packages: jieba\n",
      "  Building wheel for jieba (setup.py): started\n",
      "  Building wheel for jieba (setup.py): finished with status 'done'\n",
      "  Created wheel for jieba: filename=jieba-0.42.1-py3-none-any.whl size=19314459 sha256=71faa854401081780e25d3e0e8ef9f29b2b53b8b72688ee37ee01574a435b682\n",
      "  Stored in directory: c:\\users\\moutsea\\appdata\\local\\pip\\cache\\wheels\\7d\\74\\cf\\08c94db4b784e2c1ef675a600b7b5b281fd25240dcb954ee7e\n",
      "Successfully built jieba\n",
      "Installing collected packages: jieba\n",
      "Successfully installed jieba-0.42.1\n"
     ]
    }
   ],
   "source": [
    "!pip install jieba"
   ]
  },
  {
   "cell_type": "code",
   "execution_count": 2,
   "metadata": {},
   "outputs": [],
   "source": [
    "import jieba"
   ]
  },
  {
   "cell_type": "code",
   "execution_count": 3,
   "metadata": {},
   "outputs": [
    {
     "name": "stdout",
     "output_type": "stream",
     "text": [
      "原始文本: Hello, world! 你好，世界！\n",
      "移除标点后: Hello world 你好世界\n"
     ]
    }
   ],
   "source": [
    "import re\n",
    "\n",
    "def remove_punctuation(text):\n",
    "    # 定义中英文常见标点符号\n",
    "    punctuation = r\"\"\"!\"#$%&'()*+,-./:;<=>?@[\\]^_`{|}~。，、；：？！…—～·《》「」『』（）〔〕【】〈〉\"\"\"\n",
    "    \n",
    "    # 使用 re.sub 函数替换掉文本中的标点符号\n",
    "    text_no_punctuation = re.sub(f\"[{re.escape(punctuation)}]\", \"\", text)\n",
    "    \n",
    "    return text_no_punctuation\n",
    "\n",
    "# 示例文本，包含中英文标点符号\n",
    "text = \"Hello, world! 你好，世界！\"\n",
    "\n",
    "# 移除标点符号\n",
    "text_no_punctuation = remove_punctuation(text)\n",
    "\n",
    "print(\"原始文本:\", text)\n",
    "print(\"移除标点后:\", text_no_punctuation)\n"
   ]
  },
  {
   "cell_type": "code",
   "execution_count": 25,
   "metadata": {},
   "outputs": [],
   "source": [
    "from collections import Counter\n",
    "\n",
    "good_file = './data/jd_comment/good.txt'\n",
    "bad_file = './data/jd_comment/bad.txt'\n",
    "\n",
    "def prepare_data(good_file, bad_file, filter=True):\n",
    "    all_words, pos_sentences, neg_sentences = [], [], []\n",
    "\n",
    "    # 定义处理每一行的内部函数\n",
    "    def process_line(line, sentence_list):\n",
    "        if filter:\n",
    "            line = remove_punctuation(line)\n",
    "        words = jieba.lcut(line.strip())\n",
    "        if words:\n",
    "            all_words.extend(words)\n",
    "            sentence_list.append(words)\n",
    "\n",
    "    def process_file(file_path, sentence_list):\n",
    "        with open(file_path, 'r') as f:\n",
    "            for line in f:\n",
    "                process_line(line, sentence_list)\n",
    "\n",
    "    process_file(good_file, pos_sentences)\n",
    "    process_file(bad_file, neg_sentences)\n",
    "\n",
    "    # 使用列表推导式和enumerate生成词典\n",
    "    dit = {word: [idx, freq] for idx, (word, freq) in enumerate(Counter(all_words).items())}\n",
    "\n",
    "    return pos_sentences, neg_sentences, dit"
   ]
  },
  {
   "cell_type": "code",
   "execution_count": 26,
   "metadata": {},
   "outputs": [],
   "source": [
    "pos_sentences, neg_sentences, dit = prepare_data(good_file, bad_file)"
   ]
  },
  {
   "cell_type": "code",
   "execution_count": 27,
   "metadata": {},
   "outputs": [],
   "source": [
    "st = sorted([(v[1], w) for w, v in dit.items()])"
   ]
  },
  {
   "cell_type": "code",
   "execution_count": 28,
   "metadata": {},
   "outputs": [],
   "source": [
    "def word2index(word, dit):\n",
    "    if word in dit:\n",
    "        return dit[word][0]\n",
    "    return -1\n",
    "\n",
    "def index2word(idx, dit):\n",
    "    if idx < len(dit):\n",
    "        return list(dit.items())[idx][0]\n",
    "    return None"
   ]
  },
  {
   "cell_type": "code",
   "execution_count": 29,
   "metadata": {},
   "outputs": [
    {
     "data": {
      "text/plain": [
       "19"
      ]
     },
     "execution_count": 29,
     "metadata": {},
     "output_type": "execute_result"
    }
   ],
   "source": [
    "word2index('好', dit)"
   ]
  },
  {
   "cell_type": "code",
   "execution_count": 30,
   "metadata": {},
   "outputs": [
    {
     "data": {
      "text/plain": [
       "'好'"
      ]
     },
     "execution_count": 30,
     "metadata": {},
     "output_type": "execute_result"
    }
   ],
   "source": [
    "index2word(19, dit)"
   ]
  },
  {
   "cell_type": "code",
   "execution_count": 37,
   "metadata": {},
   "outputs": [],
   "source": [
    "import numpy as np\n",
    "dataset, labels = [], []\n",
    "\n",
    "def sentence_to_sample(samples, label, dit):\n",
    "\n",
    "    def sentence_to_vec(data, dit):\n",
    "        vector = np.zeros(len(dit))\n",
    "        for w in data:\n",
    "            vector[w] += 1\n",
    "        # 归一化\n",
    "        return (1.0 * vector / len(data))\n",
    "    \n",
    "    for sample in samples:\n",
    "        data = []\n",
    "        for w in sample:\n",
    "            if w in dit:\n",
    "                data.append(word2index(w, dit))\n",
    "        dataset.append(sentence_to_vec(data, dit))\n",
    "        labels.append(label)"
   ]
  },
  {
   "cell_type": "code",
   "execution_count": 38,
   "metadata": {},
   "outputs": [],
   "source": [
    "sentence_to_sample(pos_sentences, 0, dit)\n",
    "sentence_to_sample(neg_sentences, 1, dit)"
   ]
  },
  {
   "cell_type": "code",
   "execution_count": null,
   "metadata": {},
   "outputs": [],
   "source": []
  },
  {
   "cell_type": "code",
   "execution_count": null,
   "metadata": {},
   "outputs": [],
   "source": []
  }
 ],
 "metadata": {
  "kernelspec": {
   "display_name": "base",
   "language": "python",
   "name": "python3"
  },
  "language_info": {
   "codemirror_mode": {
    "name": "ipython",
    "version": 3
   },
   "file_extension": ".py",
   "mimetype": "text/x-python",
   "name": "python",
   "nbconvert_exporter": "python",
   "pygments_lexer": "ipython3",
   "version": "3.9.13"
  }
 },
 "nbformat": 4,
 "nbformat_minor": 2
}
